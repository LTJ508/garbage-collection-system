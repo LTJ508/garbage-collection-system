{
 "cells": [
  {
   "cell_type": "markdown",
   "id": "ef609cbe-cd34-447b-968c-8605066d590e",
   "metadata": {},
   "source": [
    "# Smart Garbase Collection System"
   ]
  },
  {
   "cell_type": "code",
   "execution_count": null,
   "id": "a630d89a-387a-4a6c-8090-a84d791d9302",
   "metadata": {},
   "outputs": [],
   "source": []
  }
 ],
 "metadata": {
  "kernelspec": {
   "display_name": "Python 3 (ipykernel)",
   "language": "python",
   "name": "python3"
  },
  "language_info": {
   "codemirror_mode": {
    "name": "ipython",
    "version": 3
   },
   "file_extension": ".py",
   "mimetype": "text/x-python",
   "name": "python",
   "nbconvert_exporter": "python",
   "pygments_lexer": "ipython3",
   "version": "3.12.1"
  }
 },
 "nbformat": 4,
 "nbformat_minor": 5
}
